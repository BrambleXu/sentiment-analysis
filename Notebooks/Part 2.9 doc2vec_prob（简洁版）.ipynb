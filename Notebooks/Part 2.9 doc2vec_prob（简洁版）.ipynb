{
 "cells": [
  {
   "cell_type": "markdown",
   "metadata": {},
   "source": [
    "用之前得到最好效果的100维向量，加lr分类器。顺便测试一下，在100维的程度下，svm的效果如何。\n",
    "\n",
    "lr的结果是0.871，svm的结果是0.874。svm确实比lr好一点点。不过因为SVM不方便得到概率值，之后输出概率的任务就交给lr了。"
   ]
  },
  {
   "cell_type": "code",
   "execution_count": 1,
   "metadata": {
    "collapsed": false
   },
   "outputs": [
    {
     "name": "stderr",
     "output_type": "stream",
     "text": [
      "Using TensorFlow backend.\n"
     ]
    }
   ],
   "source": [
    "import re\n",
    "from bs4 import BeautifulSoup\n",
    "import nltk\n",
    "from nltk.corpus import stopwords\n",
    "from gensim.models.doc2vec import TaggedDocument\n",
    "\n",
    "\n",
    "def review_to_words(raw_review):\n",
    "    review_text = BeautifulSoup(raw_review, 'lxml').get_text()\n",
    "    letters_only = re.sub(\"[^a-zA-Z]\", \" \", review_text) \n",
    "    words = letters_only.lower().split()\n",
    "    stops = set(stopwords.words(\"english\"))\n",
    "    meaningful_words = [w for w in words if not w in stops]\n",
    "    return(\" \".join(meaningful_words))\n",
    "\n",
    "\n",
    "def tag_reviews(reviews, prefix):\n",
    "    tagged = []\n",
    "    for i, review in enumerate(reviews):\n",
    "        tagged.append(TaggedDocument(words=review.split(), tags=[prefix + '_%s' % i]))\n",
    "    return tagged"
   ]
  },
  {
   "cell_type": "code",
   "execution_count": 2,
   "metadata": {
    "collapsed": false
   },
   "outputs": [
    {
     "name": "stdout",
     "output_type": "stream",
     "text": [
      "Cleaning and parsing the training set movie reviews...\n",
      "Cleaning and parsing the test set movie reviews...\n",
      "Cleaning and parsing the test set movie reviews...\n",
      "Review 5000 of 50000\n",
      "\n",
      "Review 10000 of 50000\n",
      "\n",
      "Review 15000 of 50000\n",
      "\n",
      "Review 20000 of 50000\n",
      "\n",
      "Review 25000 of 50000\n",
      "\n",
      "Review 30000 of 50000\n",
      "\n",
      "Review 35000 of 50000\n",
      "\n",
      "Review 40000 of 50000\n",
      "\n",
      "Review 45000 of 50000\n",
      "\n",
      "Review 50000 of 50000\n",
      "\n"
     ]
    }
   ],
   "source": [
    "# gensim modules\n",
    "from gensim.models import Doc2Vec\n",
    "\n",
    "# numpy\n",
    "import numpy as np\n",
    "\n",
    "# classifier\n",
    "from sklearn.linear_model import LogisticRegression\n",
    "\n",
    "# random\n",
    "from random import shuffle\n",
    "\n",
    "# preprocess packages\n",
    "import pandas as pd\n",
    "# import sys\n",
    "# sys.path.insert(0, '..')\n",
    "# from utils.TextPreprocess import review_to_words, tag_reviews\n",
    "\n",
    "\n",
    "'''\n",
    "Training Data\n",
    "'''\n",
    "train = pd.read_csv(\"../Sentiment/data/labeledTrainData.tsv\", header=0, \n",
    "                         delimiter='\\t', quoting=3, error_bad_lines=False)\n",
    "num_reviews = train[\"review\"].size\n",
    "\n",
    "print(\"Cleaning and parsing the training set movie reviews...\")\n",
    "clean_train_reviews = []\n",
    "for i in range(0, num_reviews):\n",
    "    clean_train_reviews.append(review_to_words(train[\"review\"][i]))\n",
    "\n",
    "'''\n",
    "Test Data\n",
    "'''\n",
    "test = pd.read_csv(\"../Sentiment/data/testData.tsv\", header = 0, delimiter = \"\\t\", quoting = 3)\n",
    "\n",
    "num_reviews = len(test[\"review\"])\n",
    "clean_test_reviews = []\n",
    "\n",
    "print(\"Cleaning and parsing the test set movie reviews...\")\n",
    "for i in range(0, num_reviews):\n",
    "    clean_review = review_to_words(test[\"review\"][i])\n",
    "    clean_test_reviews.append(clean_review)\n",
    "\n",
    "\n",
    "# Unlabeled Train Data\n",
    "unlabeled_reviews = pd.read_csv(\"../Sentiment/data/unlabeledTrainData.tsv\", header = 0, delimiter = \"\\t\", quoting = 3)\n",
    "num_reviews = len(unlabeled_reviews[\"review\"])\n",
    "clean_unlabeled_reviews = []\n",
    "\n",
    "print(\"Cleaning and parsing the test set movie reviews...\")\n",
    "for i in range( 0, num_reviews):\n",
    "    if( (i+1)%5000 == 0 ):\n",
    "        print(\"Review %d of %d\\n\" % (i+1, num_reviews))\n",
    "    clean_review = review_to_words(unlabeled_reviews[\"review\"][i])\n",
    "    clean_unlabeled_reviews.append(clean_review)"
   ]
  },
  {
   "cell_type": "code",
   "execution_count": 3,
   "metadata": {
    "collapsed": true
   },
   "outputs": [],
   "source": [
    "# tag all reviews\n",
    "train_tagged = tag_reviews(clean_train_reviews, 'TRAIN')\n",
    "test_tagged = tag_reviews(clean_test_reviews, 'TEST')\n",
    "unlabeled_train_tagged = tag_reviews(clean_unlabeled_reviews, 'UNTRAIN')"
   ]
  },
  {
   "cell_type": "code",
   "execution_count": 4,
   "metadata": {
    "collapsed": true
   },
   "outputs": [],
   "source": [
    "# model construction\n",
    "model_dbow = Doc2Vec(min_count=1, window=10, size=100, sample=1e-3, negative=5, dm=0, workers=3)\n",
    "\n",
    "# build vocabulary\n",
    "all_tagged = []\n",
    "tag_objects = [train_tagged, test_tagged, unlabeled_train_tagged]\n",
    "for tag_object in tag_objects:\n",
    "    for tag in tag_object:\n",
    "        all_tagged.append(tag)\n",
    "\n",
    "model_dbow.build_vocab(all_tagged)\n",
    "\n",
    "# train two model\n",
    "train_tagged2 = []\n",
    "tag_objects = [train_tagged, unlabeled_train_tagged]\n",
    "for tag_object in tag_objects:\n",
    "    for tag in tag_object:\n",
    "        train_tagged2.append(tag)\n",
    "\n",
    "for i in range(10):\n",
    "    shuffle(train_tagged2)\n",
    "    model_dbow.train(train_tagged2, total_examples=len(train_tagged2), epochs=1, start_alpha=0.025, end_alpha=0.025)\n",
    "\n",
    "\n",
    "train_array_dbow = []\n",
    "for i in range(len(train_tagged)):\n",
    "    tag = train_tagged[i].tags[0]\n",
    "    train_array_dbow.append(model_dbow.docvecs[tag])\n",
    "\n",
    "train_target = train['sentiment'].values\n",
    "\n",
    "test_array_dbow = []\n",
    "for i in range(len(test_tagged)):\n",
    "    test_array_dbow.append(model_dbow.infer_vector(test_tagged[i].words))\n"
   ]
  },
  {
   "cell_type": "code",
   "execution_count": 5,
   "metadata": {
    "collapsed": false
   },
   "outputs": [
    {
     "name": "stdout",
     "output_type": "stream",
     "text": [
      "output...\n"
     ]
    }
   ],
   "source": [
    "from sklearn.svm import SVC\n",
    "\n",
    "clf = SVC(C=1.0, kernel='rbf')\n",
    "clf.fit(train_array_dbow, train_target)\n",
    "result = clf.predict(test_array_dbow)\n",
    "\n",
    "print(\"output...\")\n",
    "output = pd.DataFrame(data={'id': test['id'], 'sentiment': result})\n",
    "output.to_csv('doc2vec_svm100.csv', index=False, quoting=3)"
   ]
  },
  {
   "cell_type": "code",
   "execution_count": 6,
   "metadata": {
    "collapsed": false
   },
   "outputs": [
    {
     "name": "stdout",
     "output_type": "stream",
     "text": [
      "output...\n"
     ]
    }
   ],
   "source": [
    "from sklearn.linear_model import LogisticRegression\n",
    "\n",
    "lr_dbow = LogisticRegression()\n",
    "lr_dbow.fit(train_array_dbow, train_target)\n",
    "result_dbow = lr_dbow.predict(test_array_dbow)\n",
    "\n",
    "print(\"output...\")\n",
    "output_dbow = pd.DataFrame(data={'id': test['id'], 'sentiment': result_dbow})\n",
    "output_dbow.to_csv('doc2vec_lr100.csv', index=False, quoting=3)"
   ]
  },
  {
   "cell_type": "markdown",
   "metadata": {},
   "source": [
    "注意，上面两个结果依然还是0或1的结果，下面写得到概率的结果"
   ]
  },
  {
   "cell_type": "code",
   "execution_count": 7,
   "metadata": {
    "collapsed": true
   },
   "outputs": [],
   "source": [
    "result_dbow_prob = lr_dbow.predict_proba(test_array_dbow)\n"
   ]
  },
  {
   "cell_type": "code",
   "execution_count": 10,
   "metadata": {
    "collapsed": false
   },
   "outputs": [
    {
     "data": {
      "text/plain": [
       "array([1, 0, 0, 0, 1, 1, 0, 0, 0, 1])"
      ]
     },
     "execution_count": 10,
     "metadata": {},
     "output_type": "execute_result"
    }
   ],
   "source": [
    "result_dbow[:10]"
   ]
  },
  {
   "cell_type": "code",
   "execution_count": 11,
   "metadata": {
    "collapsed": false
   },
   "outputs": [
    {
     "data": {
      "text/plain": [
       "array([[  8.98102520e-04,   9.99101897e-01],\n",
       "       [  9.98541567e-01,   1.45843297e-03],\n",
       "       [  7.78536606e-01,   2.21463394e-01],\n",
       "       [  8.98943653e-01,   1.01056347e-01],\n",
       "       [  1.05363912e-01,   8.94636088e-01],\n",
       "       [  2.49067824e-01,   7.50932176e-01],\n",
       "       [  9.05103156e-01,   9.48968442e-02],\n",
       "       [  8.19656551e-01,   1.80343449e-01],\n",
       "       [  9.74803625e-01,   2.51963749e-02],\n",
       "       [  4.56141579e-01,   5.43858421e-01]])"
      ]
     },
     "execution_count": 11,
     "metadata": {},
     "output_type": "execute_result"
    }
   ],
   "source": [
    "result_dbow_prob[:10]"
   ]
  },
  {
   "cell_type": "markdown",
   "metadata": {},
   "source": [
    "可以看到概率值的第二列是为1的概率，我们只要这一列。"
   ]
  },
  {
   "cell_type": "code",
   "execution_count": 12,
   "metadata": {
    "collapsed": false
   },
   "outputs": [
    {
     "data": {
      "text/plain": [
       "array([ 0.9991019 ,  0.00145843,  0.22146339, ...,  0.12014127,\n",
       "        0.99536379,  0.58438488])"
      ]
     },
     "execution_count": 12,
     "metadata": {},
     "output_type": "execute_result"
    }
   ],
   "source": [
    "result_dbow_prob[:, 1]"
   ]
  },
  {
   "cell_type": "code",
   "execution_count": 13,
   "metadata": {
    "collapsed": false
   },
   "outputs": [
    {
     "name": "stdout",
     "output_type": "stream",
     "text": [
      "output...\n"
     ]
    }
   ],
   "source": [
    "print(\"output...\")\n",
    "output_dbow_prob = pd.DataFrame(data={'id': test['id'], 'sentiment': result_dbow_prob[:, 1]})\n",
    "output_dbow_prob.to_csv('../Sentiment/result/doc2vec_lr100_prob.csv', index=False, quoting=3)"
   ]
  },
  {
   "cell_type": "markdown",
   "metadata": {},
   "source": [
    "为了在Part 3.5中读取sentence vector，在这个笔记里，我把train sentence vector和test sentence vector保存到txt文件。这里我先直接把模型保存一下好了。"
   ]
  },
  {
   "cell_type": "code",
   "execution_count": 14,
   "metadata": {
    "collapsed": true
   },
   "outputs": [],
   "source": [
    "model_dbow.save('../Sentiment/src/deep/model/doc2vec_lr100')"
   ]
  },
  {
   "cell_type": "markdown",
   "metadata": {},
   "source": [
    "测试一下保存的模型能不能正常使用"
   ]
  },
  {
   "cell_type": "code",
   "execution_count": 16,
   "metadata": {
    "collapsed": false
   },
   "outputs": [],
   "source": [
    "test_model = Doc2Vec.load('../Sentiment/src/deep/model/doc2vec_lr100')"
   ]
  },
  {
   "cell_type": "code",
   "execution_count": 17,
   "metadata": {
    "collapsed": false
   },
   "outputs": [
    {
     "data": {
      "text/plain": [
       "array([ 0.14595501,  0.38399282,  0.06572972,  0.30974752,  0.67297232,\n",
       "        0.13194489, -0.05424781,  0.28447962, -0.23332863,  0.44351801,\n",
       "       -0.00948488, -0.87945515,  0.56327236,  0.26428932, -0.34765893,\n",
       "       -0.17097975, -0.45460328, -0.12888889, -0.48940602, -0.01185165,\n",
       "       -0.24453115, -0.04505147,  0.09383383, -0.16496325,  0.01960274,\n",
       "       -0.29901358, -0.13207597, -0.10162185,  0.20436931,  0.13023561,\n",
       "        0.22586688,  0.75536847,  0.24891821,  0.14947703,  0.00144878,\n",
       "       -0.20468356, -0.31889659,  0.04161833, -0.64493978,  0.25871462,\n",
       "       -0.61675662, -0.12647435,  0.84288538,  0.19948879, -0.4759973 ,\n",
       "        0.12623964, -0.36842909, -0.22224943,  0.23471437, -0.07343078,\n",
       "       -0.26600158,  0.08183515,  0.1728107 ,  0.56280148,  0.23905422,\n",
       "        0.22810945,  0.13373871,  0.17811313,  0.02367399, -0.54043096,\n",
       "        0.64316767, -0.83761817,  0.48490623, -0.30863473, -0.06078329,\n",
       "       -0.18348159, -0.02447214, -0.13533106,  0.17773797, -0.08672572,\n",
       "       -0.18616176,  0.67163116,  0.18698217,  0.19859654,  0.26418704,\n",
       "        0.36901551,  0.0556908 , -0.09482792,  0.17237514, -0.53247768,\n",
       "        0.32690051,  0.10636779,  0.09365458, -0.13093689,  0.43035462,\n",
       "        0.4444029 ,  0.02506013, -0.19922599, -0.24297498, -0.93943471,\n",
       "        0.07418458, -0.16426745,  0.40913579, -0.19768927, -0.07618462,\n",
       "       -0.31154388,  0.18510434, -0.16946258, -0.10371505,  0.72404534], dtype=float32)"
      ]
     },
     "execution_count": 17,
     "metadata": {},
     "output_type": "execute_result"
    }
   ],
   "source": [
    "test_model.docvecs['TRAIN_0']"
   ]
  },
  {
   "cell_type": "markdown",
   "metadata": {},
   "source": [
    "呃，发现还需要train_tagged这样有tag信息的对象才能读取。我还是直接把处理好的vector保存好得了。其实就是train_array_dbow和test_array_dbow。"
   ]
  },
  {
   "cell_type": "code",
   "execution_count": 21,
   "metadata": {
    "collapsed": false
   },
   "outputs": [],
   "source": [
    "np.savetxt('../Sentiment/data/train_feature_d2v.txt', train_array_dbow)"
   ]
  },
  {
   "cell_type": "code",
   "execution_count": 22,
   "metadata": {
    "collapsed": false
   },
   "outputs": [
    {
     "data": {
      "text/plain": [
       "array([ 0.14595501,  0.38399282,  0.06572972,  0.30974752,  0.67297232,\n",
       "        0.13194489, -0.05424781,  0.28447962, -0.23332863,  0.44351801,\n",
       "       -0.00948488, -0.87945515,  0.56327236,  0.26428932, -0.34765893,\n",
       "       -0.17097975, -0.45460328, -0.12888889, -0.48940602, -0.01185165,\n",
       "       -0.24453115, -0.04505147,  0.09383383, -0.16496325,  0.01960274,\n",
       "       -0.29901358, -0.13207597, -0.10162185,  0.20436931,  0.13023561,\n",
       "        0.22586688,  0.75536847,  0.24891821,  0.14947703,  0.00144878,\n",
       "       -0.20468356, -0.31889659,  0.04161833, -0.64493978,  0.25871462,\n",
       "       -0.61675662, -0.12647435,  0.84288538,  0.19948879, -0.4759973 ,\n",
       "        0.12623964, -0.36842909, -0.22224943,  0.23471437, -0.07343078,\n",
       "       -0.26600158,  0.08183515,  0.1728107 ,  0.56280148,  0.23905422,\n",
       "        0.22810945,  0.13373871,  0.17811313,  0.02367399, -0.54043096,\n",
       "        0.64316767, -0.83761817,  0.48490623, -0.30863473, -0.06078329,\n",
       "       -0.18348159, -0.02447214, -0.13533106,  0.17773797, -0.08672572,\n",
       "       -0.18616176,  0.67163116,  0.18698217,  0.19859654,  0.26418704,\n",
       "        0.36901551,  0.0556908 , -0.09482792,  0.17237514, -0.53247768,\n",
       "        0.32690051,  0.10636779,  0.09365458, -0.13093689,  0.43035462,\n",
       "        0.4444029 ,  0.02506013, -0.19922599, -0.24297498, -0.93943471,\n",
       "        0.07418458, -0.16426745,  0.40913579, -0.19768927, -0.07618462,\n",
       "       -0.31154388,  0.18510434, -0.16946258, -0.10371505,  0.72404534], dtype=float32)"
      ]
     },
     "execution_count": 22,
     "metadata": {},
     "output_type": "execute_result"
    }
   ],
   "source": [
    "train_array_dbow[0]"
   ]
  },
  {
   "cell_type": "markdown",
   "metadata": {},
   "source": [
    "读取一下保存的数据，看看效果如何："
   ]
  },
  {
   "cell_type": "code",
   "execution_count": 23,
   "metadata": {
    "collapsed": true
   },
   "outputs": [],
   "source": [
    "test_train_d2v = np.loadtxt('../Sentiment/data/train_feature_d2v.txt')"
   ]
  },
  {
   "cell_type": "code",
   "execution_count": 24,
   "metadata": {
    "collapsed": false
   },
   "outputs": [
    {
     "data": {
      "text/plain": [
       "(25000, 100)"
      ]
     },
     "execution_count": 24,
     "metadata": {},
     "output_type": "execute_result"
    }
   ],
   "source": [
    "test_train_d2v.shape"
   ]
  },
  {
   "cell_type": "code",
   "execution_count": 25,
   "metadata": {
    "collapsed": false
   },
   "outputs": [
    {
     "data": {
      "text/plain": [
       "array([ 0.14595501,  0.38399282,  0.06572972,  0.30974752,  0.67297232,\n",
       "        0.13194489, -0.05424781,  0.28447962, -0.23332863,  0.44351801,\n",
       "       -0.00948488, -0.87945515,  0.56327236,  0.26428932, -0.34765893,\n",
       "       -0.17097975, -0.45460328, -0.12888889, -0.48940602, -0.01185165,\n",
       "       -0.24453115, -0.04505147,  0.09383383, -0.16496325,  0.01960274,\n",
       "       -0.29901358, -0.13207597, -0.10162185,  0.20436931,  0.13023561,\n",
       "        0.22586688,  0.75536847,  0.24891821,  0.14947703,  0.00144878,\n",
       "       -0.20468356, -0.31889659,  0.04161833, -0.64493978,  0.25871462,\n",
       "       -0.61675662, -0.12647435,  0.84288538,  0.19948879, -0.4759973 ,\n",
       "        0.12623964, -0.36842909, -0.22224943,  0.23471437, -0.07343078,\n",
       "       -0.26600158,  0.08183515,  0.1728107 ,  0.56280148,  0.23905422,\n",
       "        0.22810945,  0.13373871,  0.17811313,  0.02367399, -0.54043096,\n",
       "        0.64316767, -0.83761817,  0.48490623, -0.30863473, -0.06078329,\n",
       "       -0.18348159, -0.02447214, -0.13533106,  0.17773797, -0.08672572,\n",
       "       -0.18616176,  0.67163116,  0.18698217,  0.19859654,  0.26418704,\n",
       "        0.36901551,  0.0556908 , -0.09482792,  0.17237514, -0.53247768,\n",
       "        0.32690051,  0.10636779,  0.09365458, -0.13093689,  0.43035462,\n",
       "        0.4444029 ,  0.02506013, -0.19922599, -0.24297498, -0.93943471,\n",
       "        0.07418458, -0.16426745,  0.40913579, -0.19768927, -0.07618462,\n",
       "       -0.31154388,  0.18510434, -0.16946258, -0.10371505,  0.72404534])"
      ]
     },
     "execution_count": 25,
     "metadata": {},
     "output_type": "execute_result"
    }
   ],
   "source": [
    "test_train_d2v[0]"
   ]
  },
  {
   "cell_type": "markdown",
   "metadata": {},
   "source": [
    "一模一样，没问题。"
   ]
  },
  {
   "cell_type": "code",
   "execution_count": 26,
   "metadata": {
    "collapsed": true
   },
   "outputs": [],
   "source": [
    "np.savetxt('../Sentiment/data/test_feature_d2v.txt', test_array_dbow)"
   ]
  },
  {
   "cell_type": "code",
   "execution_count": null,
   "metadata": {
    "collapsed": true
   },
   "outputs": [],
   "source": []
  }
 ],
 "metadata": {
  "anaconda-cloud": {},
  "kernelspec": {
   "display_name": "Python [py35]",
   "language": "python",
   "name": "Python [py35]"
  },
  "language_info": {
   "codemirror_mode": {
    "name": "ipython",
    "version": 3
   },
   "file_extension": ".py",
   "mimetype": "text/x-python",
   "name": "python",
   "nbconvert_exporter": "python",
   "pygments_lexer": "ipython3",
   "version": "3.5.2"
  }
 },
 "nbformat": 4,
 "nbformat_minor": 0
}
