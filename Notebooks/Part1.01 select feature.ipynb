{
 "cells": [
  {
   "cell_type": "markdown",
   "metadata": {},
   "source": [
    "这个笔记本用来验证`lab_fea = select_feature('../../data/feature_chi.txt', max_feature)[\"1\"]`中，select_feature这个函数的作用。下面是函数的整体部分："
   ]
  },
  {
   "cell_type": "code",
   "execution_count": 1,
   "metadata": {
    "collapsed": true
   },
   "outputs": [],
   "source": [
    "import heapq \n",
    "\n",
    "def select_feature(filePath, k):\n",
    "\tread = open(filePath, 'r')\n",
    "\tlab_fea = {}\n",
    "\t\n",
    "\tfor line in read:\n",
    "\t\tline_arr = line.strip().split()\n",
    "\t\tif len(line_arr) - 1 <= k:\n",
    "\t\t\tlab_fea[line_arr[0]] = [kv.split(':')[0] for kv in line_arr[1 : ]]\n",
    "\t\telse:\n",
    "\t\t\theap = []\n",
    "\t\t\theapq.heapify(heap)\n",
    "\t\t\tfor kv in line_arr[1 : ]:\n",
    "\t\t\t\tkey, val = kv.split(':')\n",
    "\t\t\t\tif len(heap) < k:\n",
    "\t\t\t\t\theapq.heappush(heap, (float(val), key))\n",
    "\t\t\t\telse:\n",
    "\t\t\t\t\tif float(val) > heap[0][0]:\n",
    "\t\t\t\t\t\theapq.heappop(heap)\n",
    "\t\t\t\t\t\theapq.heappush(heap, (float(val), key))\n",
    "\t\t\tlab_fea[line_arr[0]] = [heapq.heappop(heap)[1] for i in range(len(heap))]\n",
    "\tread.close()\n",
    "\treturn lab_fea"
   ]
  },
  {
   "cell_type": "code",
   "execution_count": 3,
   "metadata": {
    "collapsed": false
   },
   "outputs": [],
   "source": [
    "lab_fea = select_feature('feature_chi.txt', 1000)"
   ]
  },
  {
   "cell_type": "code",
   "execution_count": 12,
   "metadata": {
    "collapsed": false
   },
   "outputs": [],
   "source": [
    "read = open('feature_chi.txt', 'r')"
   ]
  },
  {
   "cell_type": "code",
   "execution_count": 19,
   "metadata": {
    "collapsed": false
   },
   "outputs": [],
   "source": [
    "num_lines = sum(1 for line in open('feature_chi.txt'))"
   ]
  },
  {
   "cell_type": "code",
   "execution_count": 20,
   "metadata": {
    "collapsed": false
   },
   "outputs": [
    {
     "data": {
      "text/plain": [
       "1"
      ]
     },
     "execution_count": 20,
     "metadata": {},
     "output_type": "execute_result"
    }
   ],
   "source": [
    "num_lines"
   ]
  },
  {
   "cell_type": "markdown",
   "metadata": {},
   "source": [
    "果然，那个文件实际只有一行。下面的for line in read也就没什么用处了，重要的是line"
   ]
  },
  {
   "cell_type": "code",
   "execution_count": 13,
   "metadata": {
    "collapsed": false
   },
   "outputs": [],
   "source": [
    "lab_fea = {}"
   ]
  },
  {
   "cell_type": "code",
   "execution_count": 21,
   "metadata": {
    "collapsed": false
   },
   "outputs": [],
   "source": [
    "for line in read:\n",
    "    line_arr = line.strip().split()"
   ]
  },
  {
   "cell_type": "code",
   "execution_count": 23,
   "metadata": {
    "collapsed": false
   },
   "outputs": [
    {
     "data": {
      "text/plain": [
       "['1',\n",
       " 'fawn:0.0',\n",
       " 'tsukino:1.0',\n",
       " 'saimin:1.0',\n",
       " 'nunnery:1.0',\n",
       " 'deferment:1.0',\n",
       " 'sonja:0.0',\n",
       " 'tilton:1.0',\n",
       " 'gag:15.0',\n",
       " 'woods:12.0']"
      ]
     },
     "execution_count": 23,
     "metadata": {},
     "output_type": "execute_result"
    }
   ],
   "source": [
    "line_arr[:10]"
   ]
  },
  {
   "cell_type": "code",
   "execution_count": 24,
   "metadata": {
    "collapsed": false
   },
   "outputs": [
    {
     "data": {
      "text/plain": [
       "74091"
      ]
     },
     "execution_count": 24,
     "metadata": {},
     "output_type": "execute_result"
    }
   ],
   "source": [
    "len(line_arr)"
   ]
  },
  {
   "cell_type": "markdown",
   "metadata": {},
   "source": [
    "1000是我们选取的需要的feature单词量"
   ]
  },
  {
   "cell_type": "code",
   "execution_count": 25,
   "metadata": {
    "collapsed": true
   },
   "outputs": [],
   "source": [
    "k= 1000"
   ]
  },
  {
   "cell_type": "code",
   "execution_count": 26,
   "metadata": {
    "collapsed": true
   },
   "outputs": [],
   "source": [
    "if len(line_arr) - 1 <= k:\n",
    "    for kv in line_arr[1:]: # 不包括一开始的‘1’\n",
    "        lab_fea[line_arr[0]] = kv.split(':')[0]\n",
    "else:\n",
    "    heap = []\n",
    "    heapq.heapify(heap)"
   ]
  },
  {
   "cell_type": "markdown",
   "metadata": {},
   "source": [
    "heapq，这个模块(build-in)实现了一个堆的数据结构，完美的解决了Top-K问题，以后解决Top-K问题的时候，直接把这个模块拿来用就可以了\n",
    "\n",
    "注意，默认的heap是一个小顶堆！\n",
    "\n",
    "heapq.heapify(x) 将列表x进行堆调整，默认的是小顶堆。x必须是list，此函数将list变成堆，实时操作。从而能够在任何情况下使用堆的函数。\n",
    "\n",
    "堆常用来实现优先队列，在这种队列中，待删除的元素为优先级最高（最低）的那个。在任何时候，任意优先元素都是可以插入到队列中去的，是计算机科学中一类特殊的数据结构的统称\n",
    "\n",
    "最大（最小）堆是一棵每一个节点的键值都不小于（大于）其孩子（如果存在）的键值的树。大顶堆是一棵完全二叉树，同时也是一棵最大树。小顶堆是一棵完全完全二叉树，同时也是一棵最小树。\n",
    "\n",
    "比如下图左边是最大堆，右边是最小堆。这里我们只用到了最小堆，即节点不大于其孩子即可，条件还算比较宽：\n",
    "\n",
    "![](http://img.my.csdn.net/uploads/201210/16/1350354702_4619.jpg)"
   ]
  },
  {
   "cell_type": "code",
   "execution_count": 29,
   "metadata": {
    "collapsed": false
   },
   "outputs": [],
   "source": [
    "heap = []"
   ]
  },
  {
   "cell_type": "code",
   "execution_count": 30,
   "metadata": {
    "collapsed": true
   },
   "outputs": [],
   "source": [
    "heapq.heapify(heap)"
   ]
  },
  {
   "cell_type": "code",
   "execution_count": 31,
   "metadata": {
    "collapsed": false
   },
   "outputs": [
    {
     "data": {
      "text/plain": [
       "[]"
      ]
     },
     "execution_count": 31,
     "metadata": {},
     "output_type": "execute_result"
    }
   ],
   "source": [
    "heap"
   ]
  },
  {
   "cell_type": "code",
   "execution_count": 34,
   "metadata": {
    "collapsed": false
   },
   "outputs": [
    {
     "name": "stdout",
     "output_type": "stream",
     "text": [
      "saimin and 1.0\n"
     ]
    }
   ],
   "source": [
    "key, val = line_arr[3].split(':')\n",
    "print(key + ' and ' + val)"
   ]
  },
  {
   "cell_type": "markdown",
   "metadata": {},
   "source": [
    "heapq.heappush(heap, item) 把item添加到heap中（heap是一个列表）。\n",
    "\n",
    "我看懂下面的目的了。一开始heap是小于1000的，所以先把前1000个`(0.0, 'abbott')`这样的tuple放入head中，对于1000个之后的元素，每一个元素的值先与堆顶的最小值比较（因为是最小堆，所以最小值都在堆顶），如果比最小值大的话，就把最小值pop出来，把新的值添加进入……感觉没什么神奇的地方，这么看的话，反倒是feature_chi.txt中每个单词对应的数值是如何计算的，反倒令人好奇。"
   ]
  },
  {
   "cell_type": "code",
   "execution_count": 35,
   "metadata": {
    "collapsed": true
   },
   "outputs": [],
   "source": [
    "for kv in line_arr[1:]:\n",
    "    key, val = kv.split(':')\n",
    "    if len(heap) < k:\n",
    "        heapq.heappush(heap, (float(val), key))\n",
    "    else:\n",
    "        if float(val) > heap[0][0]:\n",
    "            heapq.heappop(heap)\n",
    "            heapq.heappush(heap, (float(val), key))\n",
    "\n",
    "lab_fea[line_arr[0]] = [heapq.heappop(heap)[1] for i in range(len(heap))]\n"
   ]
  },
  {
   "cell_type": "code",
   "execution_count": 37,
   "metadata": {
    "collapsed": false
   },
   "outputs": [
    {
     "data": {
      "text/plain": [
       "[(0.0, 'abbott'),\n",
       " (0.0, 'adapt'),\n",
       " (0.0, 'absurdities'),\n",
       " (0.0, 'altogether'),\n",
       " (0.0, 'advisedly'),\n",
       " (0.0, 'academia'),\n",
       " (0.0, 'amfortas'),\n",
       " (0.0, 'cartooning'),\n",
       " (0.0, 'boarder'),\n",
       " (0.0, 'affiliated')]"
      ]
     },
     "execution_count": 37,
     "metadata": {},
     "output_type": "execute_result"
    }
   ],
   "source": [
    "heap[:10]"
   ]
  },
  {
   "cell_type": "markdown",
   "metadata": {},
   "source": [
    "因为这个lab_fea是用到TfidfVectorizer中，用来做vocabulary的，所以之后我可以直接去查一下如何制作TfidfVectorizer的vocabulary就行了。这样的话，可以直接把runBow.py也改写了。"
   ]
  },
  {
   "cell_type": "code",
   "execution_count": null,
   "metadata": {
    "collapsed": true
   },
   "outputs": [],
   "source": [
    "self.vectorizer = TfidfVectorizer(analyzer = \"word\",\n",
    "                                 tokenizer = None,\n",
    "                                 preprocessor = None,\n",
    "                                 stop_words = None,\n",
    "                                 vocabulary = lab_fea,\n",
    "                                 max_features = max_feature)"
   ]
  }
 ],
 "metadata": {
  "kernelspec": {
   "display_name": "Python [py35]",
   "language": "python",
   "name": "Python [py35]"
  },
  "language_info": {
   "codemirror_mode": {
    "name": "ipython",
    "version": 3
   },
   "file_extension": ".py",
   "mimetype": "text/x-python",
   "name": "python",
   "nbconvert_exporter": "python",
   "pygments_lexer": "ipython3",
   "version": "3.5.2"
  }
 },
 "nbformat": 4,
 "nbformat_minor": 0
}
